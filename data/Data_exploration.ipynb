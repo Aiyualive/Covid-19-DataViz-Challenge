{
 "cells": [
  {
   "cell_type": "code",
   "execution_count": 886,
   "metadata": {},
   "outputs": [],
   "source": [
    "import pandas as pd\n",
    "\n",
    "open_line_list = pd.read_csv(\"COVID19_open_line_list.csv\") # People infected\n",
    "covid_19       = pd.read_csv(\"covid_19_data.csv\")\n",
    "#line_list      = pd.read_csv(\"COVID19_line_list_data.csv\")\n",
    "#nCov           = pd.read_csv(\"2019_nCoV_data.csv\") old\n",
    "\n",
    "recovered      = pd.read_csv(\"time_series_covid_19_recovered.csv\") # mere overskuelig\n",
    "deaths         = pd.read_csv(\"time_series_covid_19_deaths.csv\")\n",
    "confirmed      = pd.read_csv(\"time_series_covid_19_confirmed.csv\")"
   ]
  },
  {
   "cell_type": "code",
   "execution_count": 887,
   "metadata": {},
   "outputs": [],
   "source": [
    "#gdp           = pd.read_csv(\"CountriesWGDP.txt\").drop(index=\"GDP values for each country:\")\n",
    "sars = pd.read_csv(\"sars_2003_complete_dataset_clean.csv\")\n",
    "gdp  = pd.read_csv(\"GDPbyCountry.csv\", skiprows = range(0,4))[['Country Name', 'Country Code', '2016']]"
   ]
  },
  {
   "cell_type": "markdown",
   "metadata": {},
   "source": [
    "# Cleanup codes"
   ]
  },
  {
   "cell_type": "code",
   "execution_count": 888,
   "metadata": {},
   "outputs": [
    {
     "name": "stderr",
     "output_type": "stream",
     "text": [
      "/Users/Mac/anaconda/lib/python3.6/site-packages/pandas/core/frame.py:4223: SettingWithCopyWarning: \n",
      "A value is trying to be set on a copy of a slice from a DataFrame\n",
      "\n",
      "See the caveats in the documentation: http://pandas.pydata.org/pandas-docs/stable/user_guide/indexing.html#returning-a-view-versus-a-copy\n",
      "  return super().rename(**kwargs)\n"
     ]
    }
   ],
   "source": [
    "country_codes = gdp[['Country Name', 'Country Code']]\n",
    "country_codes.rename(columns={'Country Name':'CountryName', 'Country Code':'CountryCode' }, inplace=True)"
   ]
  },
  {
   "cell_type": "code",
   "execution_count": 889,
   "metadata": {},
   "outputs": [],
   "source": [
    "for i, row in country_codes.iterrows():\n",
    "    name = row['CountryName']\n",
    "    code = row['CountryCode']\n",
    "    if \"Hong\" in name:\n",
    "        country_codes.at[i, 'CountryName']='Hong Kong'\n",
    "    if \"Egypt\" in name:\n",
    "        country_codes.at[i, 'CountryName']='Egypt'\n",
    "    if \"Iran\" in name:\n",
    "        country_codes.at[i, 'CountryName']='Iran'\n",
    "    if \"Macedonia\" in name:\n",
    "        country_codes.at[i, 'CountryName']='North Macedonia'\n",
    "    if \"Russia\" in name:\n",
    "        country_codes.at[i, 'CountryName']='Russia'\n",
    "    if \"Korea, Rep.\" in name:\n",
    "        country_codes.at[i, 'CountryName']='South Korea'"
   ]
  },
  {
   "cell_type": "markdown",
   "metadata": {},
   "source": [
    "# NaN"
   ]
  },
  {
   "cell_type": "code",
   "execution_count": 890,
   "metadata": {},
   "outputs": [],
   "source": [
    "#gdp[gdp.isna().any(axis=1)]"
   ]
  },
  {
   "cell_type": "markdown",
   "metadata": {},
   "source": [
    "# World map"
   ]
  },
  {
   "cell_type": "code",
   "execution_count": 891,
   "metadata": {},
   "outputs": [],
   "source": [
    "covid_19 = covid_19[covid_19.SNo != 3247]"
   ]
  },
  {
   "cell_type": "code",
   "execution_count": 892,
   "metadata": {},
   "outputs": [
    {
     "data": {
      "text/plain": [
       "0.713126734309136"
      ]
     },
     "execution_count": 892,
     "metadata": {},
     "output_type": "execute_result"
    }
   ],
   "source": [
    "covid_last = covid_19[covid_19.ObservationDate == '03/04/2020'].drop(columns=['Last Update'])\n",
    "\n",
    "total      = sum(covid_last.Confirmed)\n",
    "max_cases  = max(covid_last.Confirmed)\n",
    "max_cases/total"
   ]
  },
  {
   "cell_type": "code",
   "execution_count": 893,
   "metadata": {},
   "outputs": [],
   "source": [
    "#covid_last[covid_last.Confirmed > 100]"
   ]
  },
  {
   "cell_type": "code",
   "execution_count": 894,
   "metadata": {},
   "outputs": [],
   "source": [
    "c0 = sum(covid_last[covid_last['Country/Region'] == 'Mainland China'].Confirmed)\n",
    "d0 = sum(covid_last[covid_last['Country/Region'] == 'Mainland China'].Deaths)\n",
    "r0 = sum(covid_last[covid_last['Country/Region'] == 'Mainland China'].Recovered)\n",
    "china = covid_last[covid_last['Country/Region'] == 'Mainland China'][:1]\n",
    "china['Country/Region'] = 'China'\n",
    "china['Confirmed']      = c0\n",
    "china['Deaths']         = d0\n",
    "china['Recovered']      = r0\n",
    "\n",
    "c1 = sum(covid_last[covid_last['Country/Region'] == 'US'].Confirmed)\n",
    "d1 = sum(covid_last[covid_last['Country/Region'] == 'US'].Deaths)\n",
    "r1 = sum(covid_last[covid_last['Country/Region'] == 'US'].Recovered)\n",
    "us = covid_last[covid_last['Country/Region'] == 'US'][:1]\n",
    "us['Confirmed']      = c1\n",
    "us['Deaths']         = d1\n",
    "us['Recovered']      = r1\n",
    "\n",
    "c2 = sum(covid_last[covid_last['Country/Region'] == 'Australia'].Confirmed)\n",
    "d2 = sum(covid_last[covid_last['Country/Region'] == 'Australia'].Deaths)\n",
    "r2 = sum(covid_last[covid_last['Country/Region'] == 'Australia'].Recovered)\n",
    "aus = covid_last[covid_last['Country/Region'] == 'Australia'][:1]\n",
    "aus['Confirmed']      = c2\n",
    "aus['Deaths']         = d2\n",
    "aus['Recovered']      = r2\n",
    "\n",
    "c3 = sum(covid_last[covid_last['Country/Region'] == 'Canada'].Confirmed)\n",
    "d3 = sum(covid_last[covid_last['Country/Region'] == 'Canada'].Deaths)\n",
    "r3 = sum(covid_last[covid_last['Country/Region'] == 'Canada'].Recovered)\n",
    "can = covid_last[covid_last['Country/Region'] == 'Canada'][:1]\n",
    "can['Confirmed']      = c3\n",
    "can['Deaths']         = d3\n",
    "can['Recovered']      = r3\n",
    "\n",
    "temp = covid_last[covid_last['Country/Region'] != 'Mainland China']\n",
    "temp = temp[temp['Country/Region'] != 'US']\n",
    "temp = temp[temp['Country/Region'] != 'Australia']\n",
    "temp = temp[temp['Country/Region'] != 'Canada']\n",
    "new = pd.concat([temp, china, us, aus, can])\n",
    "new.rename(columns={'Country/Region':'CountryName'}, inplace=True)"
   ]
  },
  {
   "cell_type": "code",
   "execution_count": 895,
   "metadata": {},
   "outputs": [],
   "source": [
    "merged = pd.merge(new, country_codes, on='CountryName', how='left')\n",
    "# merged[merged.isna().any(axis=1)]\n",
    "merged.at[10, 'CountryCode']='GBR'\n",
    "merged.at[16, 'CountryCode']='TWN'\n",
    "merged.at[34, 'CountryCode']='MAC'\n",
    "merged.at[52, 'CountryCode']='BLM'\n",
    "merged.at[82, 'CountryCode']='USA'"
   ]
  },
  {
   "cell_type": "code",
   "execution_count": 896,
   "metadata": {},
   "outputs": [],
   "source": [
    "merged.to_csv(\"../Visualisations/WorldMap_spatial/mapdata.csv\")"
   ]
  },
  {
   "cell_type": "markdown",
   "metadata": {},
   "source": [
    "# Wordcloud"
   ]
  },
  {
   "cell_type": "code",
   "execution_count": 897,
   "metadata": {},
   "outputs": [],
   "source": [
    "\n",
    "from sklearn import preprocessing\n",
    "normalized_X = preprocessing.normalize((merged['Confirmed'].values).reshape(1,-1))\n",
    "merged['new'] = normalized_X[0]*100000\n",
    "d = {}\n",
    "import math\n",
    "for i, row in merged[['CountryName', 'new']].iterrows():\n",
    "    c = row['CountryName']\n",
    "    cases = row['new']\n",
    "    d[c] = cases\n",
    "\n",
    "# Copy and paste d into vis\n",
    "# d"
   ]
  },
  {
   "cell_type": "markdown",
   "metadata": {},
   "source": [
    "# StackedHBChart"
   ]
  },
  {
   "cell_type": "code",
   "execution_count": 898,
   "metadata": {
    "scrolled": true
   },
   "outputs": [],
   "source": [
    "#World\n",
    "bchart = merged[['CountryName', 'Confirmed', 'Deaths', 'Recovered']]\n",
    "bchart = bchart[bchart.Confirmed > 100]\n",
    "bchart.rename(columns={'CountryName':'Country'}, inplace=True)\n",
    "bchart.to_csv(\"../Visualisations/StackedHorBarChart_quantitative/barchartdata.csv\",\n",
    "                                                              index=False)"
   ]
  },
  {
   "cell_type": "code",
   "execution_count": 899,
   "metadata": {},
   "outputs": [],
   "source": [
    "china = covid_last[covid_last['Country/Region'] == 'Mainland China']\n",
    "china = china[['Province/State', 'Confirmed', 'Deaths', 'Recovered']]\n",
    "china.rename(columns={'Province/State':'Country'}, inplace=True)\n",
    "china.to_csv(\"../Visualisations/StackedHorBarChart_quantitative/chinachartdata.csv\",\n",
    "                                                              index=False)"
   ]
  },
  {
   "cell_type": "markdown",
   "metadata": {},
   "source": [
    "# Evolution - temporal"
   ]
  },
  {
   "cell_type": "code",
   "execution_count": 900,
   "metadata": {},
   "outputs": [],
   "source": [
    "covid_19.rename(columns={'Province/State':'Province', 'Country/Region':'Country'}, inplace=True)\n",
    "countries = covid_19[covid_19.Confirmed > 35]['Country'].unique()\n",
    "dates = covid_19.ObservationDate.unique()\n",
    "\n",
    "df = pd.DataFrame(dates ,columns=['ObservationDate'])\n",
    "for country in countries:\n",
    "    evol = pd.DataFrame()\n",
    "    for d in dates:\n",
    "        temp = covid_19[covid_19.ObservationDate == d][['Country', 'Confirmed', 'ObservationDate']]\n",
    "        china = temp[temp['Country'] == country][:1]\n",
    "        c0 = sum(temp[temp['Country'] == country].Confirmed)\n",
    "        china[country] = c0\n",
    "        evol = pd.concat([evol, china[[country, 'ObservationDate']]])\n",
    "    df = pd.merge(df, evol, on='ObservationDate', how='left')\n",
    "df.rename(columns={'Mainland China':'China'}, inplace=True)\n",
    "df.rename(columns={'South Korea':'SouthKorea'}, inplace=True)\n",
    "df.rename(columns={'Hong Kong':'HongKong'}, inplace=True)\n",
    "df = df.drop(columns=['Others']).fillna(0)"
   ]
  },
  {
   "cell_type": "code",
   "execution_count": 901,
   "metadata": {},
   "outputs": [],
   "source": [
    "df.to_csv(\"../Visualisations/LineGraph_temporal/linedata.csv\", index=False)\n",
    "df['type'] = 'val1'\n",
    "df.rename(columns={'ObservationDate':'date'}, inplace=True)\n",
    "df.to_csv(\"../Visualisations/LineGraph_temporal2/linedata.csv\", index=False)"
   ]
  },
  {
   "cell_type": "markdown",
   "metadata": {},
   "source": [
    "# Open Line List"
   ]
  },
  {
   "cell_type": "code",
   "execution_count": 931,
   "metadata": {},
   "outputs": [],
   "source": [
    "dd = ['died', 'death']\n",
    "dead = open_line_list[open_line_list['outcome'].isin(dd)][['age']].dropna()\n",
    "dead.rename(columns={'age':'dead'}, inplace=True)\n",
    "dead.at[1848, 'dead'] = 85\n",
    "dead.at[10972, 'dead'] = 85\n",
    "dead.at[11015, 'dead'] = 69\n",
    "\n",
    "al = ['discharged', 'discharge']\n",
    "alive = open_line_list[open_line_list['outcome'].isin(al)][['age']].dropna()\n",
    "alive = alive.drop([5074, 10621, 6621])\n",
    "alive.rename(columns={'age':'alive'}, inplace=True)\n"
   ]
  },
  {
   "cell_type": "code",
   "execution_count": 933,
   "metadata": {},
   "outputs": [
    {
     "data": {
      "text/plain": [
       "[44,\n",
       " 29,\n",
       " 39,\n",
       " 46,\n",
       " 27,\n",
       " 40,\n",
       " 30,\n",
       " 32,\n",
       " 66,\n",
       " 28,\n",
       " 40,\n",
       " 51,\n",
       " 56,\n",
       " 42,\n",
       " 38,\n",
       " 7,\n",
       " 33,\n",
       " 36,\n",
       " 4,\n",
       " 38,\n",
       " 29,\n",
       " 23,\n",
       " 25,\n",
       " 31,\n",
       " 47,\n",
       " 43,\n",
       " 73,\n",
       " 25,\n",
       " 31,\n",
       " 20,\n",
       " 94,\n",
       " 38,\n",
       " 68,\n",
       " 29,\n",
       " 63,\n",
       " 30,\n",
       " 28,\n",
       " 32,\n",
       " 42,\n",
       " 49,\n",
       " 16,\n",
       " 60,\n",
       " 53,\n",
       " 1,\n",
       " 29,\n",
       " 29,\n",
       " 55,\n",
       " 50,\n",
       " 51,\n",
       " 2,\n",
       " 35,\n",
       " 34,\n",
       " 46,\n",
       " 30,\n",
       " 55,\n",
       " 61,\n",
       " 44,\n",
       " 61,\n",
       " 40,\n",
       " 43,\n",
       " 35,\n",
       " 32,\n",
       " 33,\n",
       " 58]"
      ]
     },
     "execution_count": 933,
     "metadata": {},
     "output_type": "execute_result"
    }
   ],
   "source": [
    "# Print this and copy list(map(int, alive.alive.to_list()))"
   ]
  },
  {
   "cell_type": "code",
   "execution_count": 934,
   "metadata": {},
   "outputs": [
    {
     "data": {
      "text/plain": [
       "[39, 82, 85, 44, 73, 85, 69, 77, 78, 68, 60]"
      ]
     },
     "execution_count": 934,
     "metadata": {},
     "output_type": "execute_result"
    }
   ],
   "source": [
    "# Print this and copy list(map(int, dead.dead.to_list()))"
   ]
  },
  {
   "cell_type": "code",
   "execution_count": 904,
   "metadata": {
    "scrolled": true
   },
   "outputs": [],
   "source": [
    "#open_line_list[open_line_list[['symptoms']].isna().any(axis=1)]"
   ]
  },
  {
   "cell_type": "markdown",
   "metadata": {},
   "source": [
    "# Correlation"
   ]
  },
  {
   "cell_type": "markdown",
   "metadata": {},
   "source": [
    "# Sars"
   ]
  },
  {
   "cell_type": "code",
   "execution_count": 880,
   "metadata": {},
   "outputs": [],
   "source": [
    "\n",
    "merged.rename(columns={'CountryName':'Country'}, inplace=True)\n",
    "cov = merged[['Confirmed', 'Country']]\n",
    "sar = sars[sars.Date == \"2003-07-11\"][['Cumulative number of case(s)', 'Country']]\n",
    "sar.at[2537, 'Country'] = 'Vietnam'\n",
    "sar.at[2536, 'Country'] = 'US'\n",
    "sar.at[2535, 'Country'] = 'UK'\n",
    "sar.at[2528, 'Country'] = 'Russia'\n",
    "sar.at[2526, 'Country'] = 'South Korea'\n",
    "sar.at[2525, 'Country'] = 'Ireland'\n",
    "sar.at[2512, 'Country'] = 'Taiwan'\n",
    "sar.at[2511, 'Country'] = 'Macau'\n",
    "sar.at[2510, 'Country'] = 'Hong Kong'\n",
    "diseases = pd.merge(cov, sar, on='Country', how='left').dropna()"
   ]
  },
  {
   "cell_type": "code",
   "execution_count": 884,
   "metadata": {},
   "outputs": [],
   "source": [
    "ssa = sum(diseases['Confirmed'])\n",
    "scov = sum(diseases['Cumulative number of case(s)'])\n",
    "ll = []\n",
    "for i, r in diseases.iterrows():\n",
    "    sa = int(r['Cumulative number of case(s)'])/scov\n",
    "    cov = int(r['Confirmed'])/ssa\n",
    "    c = r['Country']\n",
    "    d = {'categorie': c, 'values': [{'value': cov, 'rate': \"Covid-19\"}, {'value': sa, 'rate': \"SARS\"}]}\n",
    "    ll.append(d)"
   ]
  },
  {
   "cell_type": "code",
   "execution_count": 885,
   "metadata": {},
   "outputs": [],
   "source": [
    "import json\n",
    "with open('../Visualisations/SarsCovid/data2.json', 'w') as fp:\n",
    "    json.dump(ll, fp)"
   ]
  },
  {
   "cell_type": "code",
   "execution_count": 872,
   "metadata": {},
   "outputs": [],
   "source": [
    "diseases.to_json('../Visualisations/SarsCovid/data2.json')"
   ]
  },
  {
   "cell_type": "code",
   "execution_count": 870,
   "metadata": {},
   "outputs": [],
   "source": [
    "#import matplotlib.pyplot as plt\n",
    "#plt.scatter(diseases['Confirmed'], diseases['Cumulative number of case(s)'])\n",
    "#plt.ylim([0,2000])"
   ]
  },
  {
   "cell_type": "markdown",
   "metadata": {},
   "source": [
    "# GDP"
   ]
  },
  {
   "cell_type": "code",
   "execution_count": 844,
   "metadata": {},
   "outputs": [],
   "source": [
    "merged.rename(columns={'CountryName':'Country'}, inplace=True)\n",
    "gdp.rename(columns={'Country Name':'Country', '2016':'gdp'}, inplace=True)\n",
    "cov2 = merged[['Confirmed', 'Country']]\n",
    "gdp2 = gdp[['Country', 'gdp']]\n",
    "\n",
    "gdp2.at[124, 'Country'] = 'South Korea'\n",
    "gdp2.at[110, 'Country'] = 'Iran'\n",
    "gdp2.at[144, 'Country'] = 'Macau'\n",
    "gdp2.at[94, 'Country'] = 'Hong Kong'\n",
    "gdp2.at[79, 'Country'] = 'UK'\n",
    "gdp2.at[155, 'Country'] = 'North Macedonia'\n",
    "gdp2.at[249, 'Country'] = 'US'\n",
    "gdp2.at[200, 'Country'] = 'Russia'\n",
    "gdp2.at[65, 'Country'] = 'Egypt'\n",
    "g = pd.merge(cov2, gdp2, on='Country', how='left')\n",
    "g.at[16,'gdp'] = 589906*10**6\n",
    "g = g.dropna()"
   ]
  },
  {
   "cell_type": "code",
   "execution_count": 845,
   "metadata": {},
   "outputs": [],
   "source": [
    "g.to_csv('../Visualisations/Scatter/gdpdata.csv', index=False)"
   ]
  }
 ],
 "metadata": {
  "kernelspec": {
   "display_name": "Python 3",
   "language": "python",
   "name": "python3"
  },
  "language_info": {
   "codemirror_mode": {
    "name": "ipython",
    "version": 3
   },
   "file_extension": ".py",
   "mimetype": "text/x-python",
   "name": "python",
   "nbconvert_exporter": "python",
   "pygments_lexer": "ipython3",
   "version": "3.6.9"
  }
 },
 "nbformat": 4,
 "nbformat_minor": 2
}
