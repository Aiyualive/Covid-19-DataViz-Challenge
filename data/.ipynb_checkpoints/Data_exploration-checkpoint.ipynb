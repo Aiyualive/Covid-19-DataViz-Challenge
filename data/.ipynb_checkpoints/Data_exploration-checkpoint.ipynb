{
 "cells": [
  {
   "cell_type": "code",
   "execution_count": 886,
   "metadata": {},
   "outputs": [],
   "source": [
    "import pandas as pd\n",
    "\n",
    "open_line_list = pd.read_csv(\"COVID19_open_line_list.csv\") # People infected\n",
    "covid_19       = pd.read_csv(\"covid_19_data.csv\")\n",
    "#line_list      = pd.read_csv(\"COVID19_line_list_data.csv\")\n",
    "#nCov           = pd.read_csv(\"2019_nCoV_data.csv\") old\n",
    "\n",
    "recovered      = pd.read_csv(\"time_series_covid_19_recovered.csv\") # mere overskuelig\n",
    "deaths         = pd.read_csv(\"time_series_covid_19_deaths.csv\")\n",
    "confirmed      = pd.read_csv(\"time_series_covid_19_confirmed.csv\")"
   ]
  },
  {
   "cell_type": "code",
   "execution_count": 887,
   "metadata": {},
   "outputs": [],
   "source": [
    "#gdp           = pd.read_csv(\"CountriesWGDP.txt\").drop(index=\"GDP values for each country:\")\n",
    "sars = pd.read_csv(\"sars_2003_complete_dataset_clean.csv\")\n",
    "gdp  = pd.read_csv(\"GDPbyCountry.csv\", skiprows = range(0,4))[['Country Name', 'Country Code', '2016']]"
   ]
  },
  {
   "cell_type": "markdown",
   "metadata": {},
   "source": [
    "# Cleanup codes"
   ]
  },
  {
   "cell_type": "code",
   "execution_count": 888,
   "metadata": {},
   "outputs": [
    {
     "name": "stderr",
     "output_type": "stream",
     "text": [
      "/Users/Mac/anaconda/lib/python3.6/site-packages/pandas/core/frame.py:4223: SettingWithCopyWarning: \n",
      "A value is trying to be set on a copy of a slice from a DataFrame\n",
      "\n",
      "See the caveats in the documentation: http://pandas.pydata.org/pandas-docs/stable/user_guide/indexing.html#returning-a-view-versus-a-copy\n",
      "  return super().rename(**kwargs)\n"
     ]
    }
   ],
   "source": [
    "country_codes = gdp[['Country Name', 'Country Code']]\n",
    "country_codes.rename(columns={'Country Name':'CountryName', 'Country Code':'CountryCode' }, inplace=True)"
   ]
  },
  {
   "cell_type": "code",
   "execution_count": 889,
   "metadata": {},
   "outputs": [],
   "source": [
    "for i, row in country_codes.iterrows():\n",
    "    name = row['CountryName']\n",
    "    code = row['CountryCode']\n",
    "    if \"Hong\" in name:\n",
    "        country_codes.at[i, 'CountryName']='Hong Kong'\n",
    "    if \"Egypt\" in name:\n",
    "        country_codes.at[i, 'CountryName']='Egypt'\n",
    "    if \"Iran\" in name:\n",
    "        country_codes.at[i, 'CountryName']='Iran'\n",
    "    if \"Macedonia\" in name:\n",
    "        country_codes.at[i, 'CountryName']='North Macedonia'\n",
    "    if \"Russia\" in name:\n",
    "        country_codes.at[i, 'CountryName']='Russia'\n",
    "    if \"Korea, Rep.\" in name:\n",
    "        country_codes.at[i, 'CountryName']='South Korea'"
   ]
  },
  {
   "cell_type": "markdown",
   "metadata": {},
   "source": [
    "# NaN"
   ]
  },
  {
   "cell_type": "code",
   "execution_count": 890,
   "metadata": {},
   "outputs": [],
   "source": [
    "#gdp[gdp.isna().any(axis=1)]"
   ]
  },
  {
   "cell_type": "markdown",
   "metadata": {},
   "source": [
    "# World map"
   ]
  },
  {
   "cell_type": "code",
   "execution_count": 891,
   "metadata": {},
   "outputs": [],
   "source": [
    "covid_19 = covid_19[covid_19.SNo != 3247]"
   ]
  },
  {
   "cell_type": "code",
   "execution_count": 892,
   "metadata": {},
   "outputs": [
    {
     "data": {
      "text/plain": [
       "0.713126734309136"
      ]
     },
     "execution_count": 892,
     "metadata": {},
     "output_type": "execute_result"
    }
   ],
   "source": [
    "covid_last = covid_19[covid_19.ObservationDate == '03/04/2020'].drop(columns=['Last Update'])\n",
    "\n",
    "total      = sum(covid_last.Confirmed)\n",
    "max_cases  = max(covid_last.Confirmed)\n",
    "max_cases/total"
   ]
  },
  {
   "cell_type": "code",
   "execution_count": 893,
   "metadata": {},
   "outputs": [],
   "source": [
    "#covid_last[covid_last.Confirmed > 100]"
   ]
  },
  {
   "cell_type": "code",
   "execution_count": 894,
   "metadata": {},
   "outputs": [],
   "source": [
    "c0 = sum(covid_last[covid_last['Country/Region'] == 'Mainland China'].Confirmed)\n",
    "d0 = sum(covid_last[covid_last['Country/Region'] == 'Mainland China'].Deaths)\n",
    "r0 = sum(covid_last[covid_last['Country/Region'] == 'Mainland China'].Recovered)\n",
    "china = covid_last[covid_last['Country/Region'] == 'Mainland China'][:1]\n",
    "china['Country/Region'] = 'China'\n",
    "china['Confirmed']      = c0\n",
    "china['Deaths']         = d0\n",
    "china['Recovered']      = r0\n",
    "\n",
    "c1 = sum(covid_last[covid_last['Country/Region'] == 'US'].Confirmed)\n",
    "d1 = sum(covid_last[covid_last['Country/Region'] == 'US'].Deaths)\n",
    "r1 = sum(covid_last[covid_last['Country/Region'] == 'US'].Recovered)\n",
    "us = covid_last[covid_last['Country/Region'] == 'US'][:1]\n",
    "us['Confirmed']      = c1\n",
    "us['Deaths']         = d1\n",
    "us['Recovered']      = r1\n",
    "\n",
    "c2 = sum(covid_last[covid_last['Country/Region'] == 'Australia'].Confirmed)\n",
    "d2 = sum(covid_last[covid_last['Country/Region'] == 'Australia'].Deaths)\n",
    "r2 = sum(covid_last[covid_last['Country/Region'] == 'Australia'].Recovered)\n",
    "aus = covid_last[covid_last['Country/Region'] == 'Australia'][:1]\n",
    "aus['Confirmed']      = c2\n",
    "aus['Deaths']         = d2\n",
    "aus['Recovered']      = r2\n",
    "\n",
    "c3 = sum(covid_last[covid_last['Country/Region'] == 'Canada'].Confirmed)\n",
    "d3 = sum(covid_last[covid_last['Country/Region'] == 'Canada'].Deaths)\n",
    "r3 = sum(covid_last[covid_last['Country/Region'] == 'Canada'].Recovered)\n",
    "can = covid_last[covid_last['Country/Region'] == 'Canada'][:1]\n",
    "can['Confirmed']      = c3\n",
    "can['Deaths']         = d3\n",
    "can['Recovered']      = r3\n",
    "\n",
    "temp = covid_last[covid_last['Country/Region'] != 'Mainland China']\n",
    "temp = temp[temp['Country/Region'] != 'US']\n",
    "temp = temp[temp['Country/Region'] != 'Australia']\n",
    "temp = temp[temp['Country/Region'] != 'Canada']\n",
    "new = pd.concat([temp, china, us, aus, can])\n",
    "new.rename(columns={'Country/Region':'CountryName'}, inplace=True)"
   ]
  },
  {
   "cell_type": "code",
   "execution_count": 895,
   "metadata": {},
   "outputs": [],
   "source": [
    "merged = pd.merge(new, country_codes, on='CountryName', how='left')\n",
    "# merged[merged.isna().any(axis=1)]\n",
    "merged.at[10, 'CountryCode']='GBR'\n",
    "merged.at[16, 'CountryCode']='TWN'\n",
    "merged.at[34, 'CountryCode']='MAC'\n",
    "merged.at[52, 'CountryCode']='BLM'\n",
    "merged.at[82, 'CountryCode']='USA'"
   ]
  },
  {
   "cell_type": "code",
   "execution_count": 896,
   "metadata": {},
   "outputs": [],
   "source": [
    "merged.to_csv(\"../Visualisations/WorldMap_spatial/mapdata.csv\")"
   ]
  },
  {
   "cell_type": "markdown",
   "metadata": {},
   "source": [
    "# Wordcloud"
   ]
  },
  {
   "cell_type": "code",
   "execution_count": 897,
   "metadata": {},
   "outputs": [],
   "source": [
    "\n",
    "from sklearn import preprocessing\n",
    "normalized_X = preprocessing.normalize((merged['Confirmed'].values).reshape(1,-1))\n",
    "merged['new'] = normalized_X[0]*100000\n",
    "d = {}\n",
    "import math\n",
    "for i, row in merged[['CountryName', 'new']].iterrows():\n",
    "    c = row['CountryName']\n",
    "    cases = row['new']\n",
    "    d[c] = cases\n",
    "\n",
    "# Copy and paste d into vis\n",
    "# d"
   ]
  },
  {
   "cell_type": "markdown",
   "metadata": {},
   "source": [
    "# StackedHBChart"
   ]
  },
  {
   "cell_type": "code",
   "execution_count": 898,
   "metadata": {
    "scrolled": true
   },
   "outputs": [],
   "source": [
    "#World\n",
    "bchart = merged[['CountryName', 'Confirmed', 'Deaths', 'Recovered']]\n",
    "bchart = bchart[bchart.Confirmed > 100]\n",
    "bchart.rename(columns={'CountryName':'Country'}, inplace=True)\n",
    "bchart.to_csv(\"../Visualisations/StackedHorBarChart_quantitative/barchartdata.csv\",\n",
    "                                                              index=False)"
   ]
  },
  {
   "cell_type": "code",
   "execution_count": 899,
   "metadata": {},
   "outputs": [],
   "source": [
    "china = covid_last[covid_last['Country/Region'] == 'Mainland China']\n",
    "china = china[['Province/State', 'Confirmed', 'Deaths', 'Recovered']]\n",
    "china.rename(columns={'Province/State':'Country'}, inplace=True)\n",
    "china.to_csv(\"../Visualisations/StackedHorBarChart_quantitative/chinachartdata.csv\",\n",
    "                                                              index=False)"
   ]
  },
  {
   "cell_type": "markdown",
   "metadata": {},
   "source": [
    "# Evolution - temporal"
   ]
  },
  {
   "cell_type": "code",
   "execution_count": 900,
   "metadata": {},
   "outputs": [],
   "source": [
    "covid_19.rename(columns={'Province/State':'Province', 'Country/Region':'Country'}, inplace=True)\n",
    "countries = covid_19[covid_19.Confirmed > 35]['Country'].unique()\n",
    "dates = covid_19.ObservationDate.unique()\n",
    "\n",
    "df = pd.DataFrame(dates ,columns=['ObservationDate'])\n",
    "for country in countries:\n",
    "    evol = pd.DataFrame()\n",
    "    for d in dates:\n",
    "        temp = covid_19[covid_19.ObservationDate == d][['Country', 'Confirmed', 'ObservationDate']]\n",
    "        china = temp[temp['Country'] == country][:1]\n",
    "        c0 = sum(temp[temp['Country'] == country].Confirmed)\n",
    "        china[country] = c0\n",
    "        evol = pd.concat([evol, china[[country, 'ObservationDate']]])\n",
    "    df = pd.merge(df, evol, on='ObservationDate', how='left')\n",
    "df.rename(columns={'Mainland China':'China'}, inplace=True)\n",
    "df.rename(columns={'South Korea':'SouthKorea'}, inplace=True)\n",
    "df.rename(columns={'Hong Kong':'HongKong'}, inplace=True)\n",
    "df = df.drop(columns=['Others']).fillna(0)"
   ]
  },
  {
   "cell_type": "code",
   "execution_count": 901,
   "metadata": {},
   "outputs": [],
   "source": [
    "df.to_csv(\"../Visualisations/LineGraph_temporal/linedata.csv\", index=False)\n",
    "df['type'] = 'val1'\n",
    "df.rename(columns={'ObservationDate':'date'}, inplace=True)\n",
    "df.to_csv(\"../Visualisations/LineGraph_temporal2/linedata.csv\", index=False)"
   ]
  },
  {
   "cell_type": "markdown",
   "metadata": {},
   "source": [
    "# Open Line List"
   ]
  },
  {
   "cell_type": "code",
   "execution_count": 908,
   "metadata": {},
   "outputs": [],
   "source": [
    "dd = ['died', 'death']\n",
    "dead = open_line_list[open_line_list['outcome'].isin(dd)][['age']].dropna()\n",
    "dead.rename(columns={'age':'dead'}, inplace=True)\n",
    "\n",
    "al = ['discharged', 'discharge']\n",
    "alive = open_line_list[open_line_list['outcome'].isin(al)][['age']].dropna()\n",
    "alive.drop(5074)\n",
    "alive.rename(columns={'age':'alive'}, inplace=True)\n"
   ]
  },
  {
   "cell_type": "code",
   "execution_count": 909,
   "metadata": {},
   "outputs": [
    {
     "data": {
      "text/html": [
       "<div>\n",
       "<style scoped>\n",
       "    .dataframe tbody tr th:only-of-type {\n",
       "        vertical-align: middle;\n",
       "    }\n",
       "\n",
       "    .dataframe tbody tr th {\n",
       "        vertical-align: top;\n",
       "    }\n",
       "\n",
       "    .dataframe thead th {\n",
       "        text-align: right;\n",
       "    }\n",
       "</style>\n",
       "<table border=\"1\" class=\"dataframe\">\n",
       "  <thead>\n",
       "    <tr style=\"text-align: right;\">\n",
       "      <th></th>\n",
       "      <th>dead</th>\n",
       "    </tr>\n",
       "  </thead>\n",
       "  <tbody>\n",
       "    <tr>\n",
       "      <td>185</td>\n",
       "      <td>39</td>\n",
       "    </tr>\n",
       "    <tr>\n",
       "      <td>1426</td>\n",
       "      <td>82</td>\n",
       "    </tr>\n",
       "    <tr>\n",
       "      <td>1848</td>\n",
       "      <td>80-89</td>\n",
       "    </tr>\n",
       "    <tr>\n",
       "      <td>4800</td>\n",
       "      <td>44</td>\n",
       "    </tr>\n",
       "    <tr>\n",
       "      <td>5050</td>\n",
       "      <td>73</td>\n",
       "    </tr>\n",
       "    <tr>\n",
       "      <td>10972</td>\n",
       "      <td>80-89</td>\n",
       "    </tr>\n",
       "    <tr>\n",
       "      <td>11015</td>\n",
       "      <td>60-69</td>\n",
       "    </tr>\n",
       "    <tr>\n",
       "      <td>11219</td>\n",
       "      <td>77</td>\n",
       "    </tr>\n",
       "    <tr>\n",
       "      <td>11220</td>\n",
       "      <td>78</td>\n",
       "    </tr>\n",
       "    <tr>\n",
       "      <td>11222</td>\n",
       "      <td>68</td>\n",
       "    </tr>\n",
       "    <tr>\n",
       "      <td>11800</td>\n",
       "      <td>60</td>\n",
       "    </tr>\n",
       "  </tbody>\n",
       "</table>\n",
       "</div>"
      ],
      "text/plain": [
       "        dead\n",
       "185       39\n",
       "1426      82\n",
       "1848   80-89\n",
       "4800      44\n",
       "5050      73\n",
       "10972  80-89\n",
       "11015  60-69\n",
       "11219     77\n",
       "11220     78\n",
       "11222     68\n",
       "11800     60"
      ]
     },
     "execution_count": 909,
     "metadata": {},
     "output_type": "execute_result"
    }
   ],
   "source": [
    "dead"
   ]
  },
  {
   "cell_type": "code",
   "execution_count": 910,
   "metadata": {},
   "outputs": [
    {
     "data": {
      "text/html": [
       "<div>\n",
       "<style scoped>\n",
       "    .dataframe tbody tr th:only-of-type {\n",
       "        vertical-align: middle;\n",
       "    }\n",
       "\n",
       "    .dataframe tbody tr th {\n",
       "        vertical-align: top;\n",
       "    }\n",
       "\n",
       "    .dataframe thead th {\n",
       "        text-align: right;\n",
       "    }\n",
       "</style>\n",
       "<table border=\"1\" class=\"dataframe\">\n",
       "  <thead>\n",
       "    <tr style=\"text-align: right;\">\n",
       "      <th></th>\n",
       "      <th>alive</th>\n",
       "    </tr>\n",
       "  </thead>\n",
       "  <tbody>\n",
       "    <tr>\n",
       "      <td>55</td>\n",
       "      <td>44</td>\n",
       "    </tr>\n",
       "    <tr>\n",
       "      <td>161</td>\n",
       "      <td>29</td>\n",
       "    </tr>\n",
       "    <tr>\n",
       "      <td>313</td>\n",
       "      <td>39</td>\n",
       "    </tr>\n",
       "    <tr>\n",
       "      <td>337</td>\n",
       "      <td>46</td>\n",
       "    </tr>\n",
       "    <tr>\n",
       "      <td>613</td>\n",
       "      <td>27</td>\n",
       "    </tr>\n",
       "    <tr>\n",
       "      <td>641</td>\n",
       "      <td>40</td>\n",
       "    </tr>\n",
       "    <tr>\n",
       "      <td>642</td>\n",
       "      <td>30</td>\n",
       "    </tr>\n",
       "    <tr>\n",
       "      <td>647</td>\n",
       "      <td>32</td>\n",
       "    </tr>\n",
       "    <tr>\n",
       "      <td>663</td>\n",
       "      <td>66</td>\n",
       "    </tr>\n",
       "    <tr>\n",
       "      <td>664</td>\n",
       "      <td>28</td>\n",
       "    </tr>\n",
       "    <tr>\n",
       "      <td>665</td>\n",
       "      <td>40</td>\n",
       "    </tr>\n",
       "    <tr>\n",
       "      <td>671</td>\n",
       "      <td>51</td>\n",
       "    </tr>\n",
       "    <tr>\n",
       "      <td>676</td>\n",
       "      <td>56</td>\n",
       "    </tr>\n",
       "    <tr>\n",
       "      <td>1055</td>\n",
       "      <td>42</td>\n",
       "    </tr>\n",
       "    <tr>\n",
       "      <td>1056</td>\n",
       "      <td>38</td>\n",
       "    </tr>\n",
       "    <tr>\n",
       "      <td>1057</td>\n",
       "      <td>7</td>\n",
       "    </tr>\n",
       "    <tr>\n",
       "      <td>1462</td>\n",
       "      <td>33</td>\n",
       "    </tr>\n",
       "    <tr>\n",
       "      <td>2436</td>\n",
       "      <td>36</td>\n",
       "    </tr>\n",
       "    <tr>\n",
       "      <td>2569</td>\n",
       "      <td>4</td>\n",
       "    </tr>\n",
       "    <tr>\n",
       "      <td>2932</td>\n",
       "      <td>38</td>\n",
       "    </tr>\n",
       "    <tr>\n",
       "      <td>2942</td>\n",
       "      <td>29</td>\n",
       "    </tr>\n",
       "    <tr>\n",
       "      <td>2943</td>\n",
       "      <td>23</td>\n",
       "    </tr>\n",
       "    <tr>\n",
       "      <td>2965</td>\n",
       "      <td>25</td>\n",
       "    </tr>\n",
       "    <tr>\n",
       "      <td>4052</td>\n",
       "      <td>31</td>\n",
       "    </tr>\n",
       "    <tr>\n",
       "      <td>4053</td>\n",
       "      <td>47</td>\n",
       "    </tr>\n",
       "    <tr>\n",
       "      <td>4609</td>\n",
       "      <td>43</td>\n",
       "    </tr>\n",
       "    <tr>\n",
       "      <td>4797</td>\n",
       "      <td>73</td>\n",
       "    </tr>\n",
       "    <tr>\n",
       "      <td>4798</td>\n",
       "      <td>25</td>\n",
       "    </tr>\n",
       "    <tr>\n",
       "      <td>4831</td>\n",
       "      <td>31</td>\n",
       "    </tr>\n",
       "    <tr>\n",
       "      <td>5054</td>\n",
       "      <td>20</td>\n",
       "    </tr>\n",
       "    <tr>\n",
       "      <td>5059</td>\n",
       "      <td>94</td>\n",
       "    </tr>\n",
       "    <tr>\n",
       "      <td>5072</td>\n",
       "      <td>38</td>\n",
       "    </tr>\n",
       "    <tr>\n",
       "      <td>5073</td>\n",
       "      <td>68</td>\n",
       "    </tr>\n",
       "    <tr>\n",
       "      <td>5074</td>\n",
       "      <td>38-68</td>\n",
       "    </tr>\n",
       "    <tr>\n",
       "      <td>5089</td>\n",
       "      <td>29</td>\n",
       "    </tr>\n",
       "    <tr>\n",
       "      <td>5852</td>\n",
       "      <td>63</td>\n",
       "    </tr>\n",
       "    <tr>\n",
       "      <td>5856</td>\n",
       "      <td>30</td>\n",
       "    </tr>\n",
       "    <tr>\n",
       "      <td>5857</td>\n",
       "      <td>28</td>\n",
       "    </tr>\n",
       "    <tr>\n",
       "      <td>5862</td>\n",
       "      <td>32</td>\n",
       "    </tr>\n",
       "    <tr>\n",
       "      <td>5871</td>\n",
       "      <td>42</td>\n",
       "    </tr>\n",
       "    <tr>\n",
       "      <td>6070</td>\n",
       "      <td>49</td>\n",
       "    </tr>\n",
       "    <tr>\n",
       "      <td>6071</td>\n",
       "      <td>16</td>\n",
       "    </tr>\n",
       "    <tr>\n",
       "      <td>6074</td>\n",
       "      <td>60</td>\n",
       "    </tr>\n",
       "    <tr>\n",
       "      <td>6621</td>\n",
       "      <td>0.5</td>\n",
       "    </tr>\n",
       "    <tr>\n",
       "      <td>8019</td>\n",
       "      <td>53</td>\n",
       "    </tr>\n",
       "    <tr>\n",
       "      <td>8627</td>\n",
       "      <td>1</td>\n",
       "    </tr>\n",
       "    <tr>\n",
       "      <td>10374</td>\n",
       "      <td>29</td>\n",
       "    </tr>\n",
       "    <tr>\n",
       "      <td>10619</td>\n",
       "      <td>29</td>\n",
       "    </tr>\n",
       "    <tr>\n",
       "      <td>10620</td>\n",
       "      <td>55</td>\n",
       "    </tr>\n",
       "    <tr>\n",
       "      <td>10621</td>\n",
       "      <td>0.25</td>\n",
       "    </tr>\n",
       "    <tr>\n",
       "      <td>10622</td>\n",
       "      <td>50</td>\n",
       "    </tr>\n",
       "    <tr>\n",
       "      <td>10876</td>\n",
       "      <td>51</td>\n",
       "    </tr>\n",
       "    <tr>\n",
       "      <td>10954</td>\n",
       "      <td>2</td>\n",
       "    </tr>\n",
       "    <tr>\n",
       "      <td>10955</td>\n",
       "      <td>35</td>\n",
       "    </tr>\n",
       "    <tr>\n",
       "      <td>10963</td>\n",
       "      <td>34</td>\n",
       "    </tr>\n",
       "    <tr>\n",
       "      <td>10964</td>\n",
       "      <td>46</td>\n",
       "    </tr>\n",
       "    <tr>\n",
       "      <td>10975</td>\n",
       "      <td>30</td>\n",
       "    </tr>\n",
       "    <tr>\n",
       "      <td>10977</td>\n",
       "      <td>55</td>\n",
       "    </tr>\n",
       "    <tr>\n",
       "      <td>10984</td>\n",
       "      <td>61</td>\n",
       "    </tr>\n",
       "    <tr>\n",
       "      <td>10987</td>\n",
       "      <td>44</td>\n",
       "    </tr>\n",
       "    <tr>\n",
       "      <td>10990</td>\n",
       "      <td>61</td>\n",
       "    </tr>\n",
       "    <tr>\n",
       "      <td>11008</td>\n",
       "      <td>40</td>\n",
       "    </tr>\n",
       "    <tr>\n",
       "      <td>11017</td>\n",
       "      <td>43</td>\n",
       "    </tr>\n",
       "    <tr>\n",
       "      <td>11025</td>\n",
       "      <td>35</td>\n",
       "    </tr>\n",
       "    <tr>\n",
       "      <td>11511</td>\n",
       "      <td>32</td>\n",
       "    </tr>\n",
       "    <tr>\n",
       "      <td>11737</td>\n",
       "      <td>33</td>\n",
       "    </tr>\n",
       "    <tr>\n",
       "      <td>11740</td>\n",
       "      <td>58</td>\n",
       "    </tr>\n",
       "  </tbody>\n",
       "</table>\n",
       "</div>"
      ],
      "text/plain": [
       "       alive\n",
       "55        44\n",
       "161       29\n",
       "313       39\n",
       "337       46\n",
       "613       27\n",
       "641       40\n",
       "642       30\n",
       "647       32\n",
       "663       66\n",
       "664       28\n",
       "665       40\n",
       "671       51\n",
       "676       56\n",
       "1055      42\n",
       "1056      38\n",
       "1057       7\n",
       "1462      33\n",
       "2436      36\n",
       "2569       4\n",
       "2932      38\n",
       "2942      29\n",
       "2943      23\n",
       "2965      25\n",
       "4052      31\n",
       "4053      47\n",
       "4609      43\n",
       "4797      73\n",
       "4798      25\n",
       "4831      31\n",
       "5054      20\n",
       "5059      94\n",
       "5072      38\n",
       "5073      68\n",
       "5074   38-68\n",
       "5089      29\n",
       "5852      63\n",
       "5856      30\n",
       "5857      28\n",
       "5862      32\n",
       "5871      42\n",
       "6070      49\n",
       "6071      16\n",
       "6074      60\n",
       "6621     0.5\n",
       "8019      53\n",
       "8627       1\n",
       "10374     29\n",
       "10619     29\n",
       "10620     55\n",
       "10621   0.25\n",
       "10622     50\n",
       "10876     51\n",
       "10954      2\n",
       "10955     35\n",
       "10963     34\n",
       "10964     46\n",
       "10975     30\n",
       "10977     55\n",
       "10984     61\n",
       "10987     44\n",
       "10990     61\n",
       "11008     40\n",
       "11017     43\n",
       "11025     35\n",
       "11511     32\n",
       "11737     33\n",
       "11740     58"
      ]
     },
     "execution_count": 910,
     "metadata": {},
     "output_type": "execute_result"
    }
   ],
   "source": [
    "alive"
   ]
  },
  {
   "cell_type": "code",
   "execution_count": 904,
   "metadata": {
    "scrolled": true
   },
   "outputs": [],
   "source": [
    "#open_line_list[open_line_list[['symptoms']].isna().any(axis=1)]"
   ]
  },
  {
   "cell_type": "markdown",
   "metadata": {},
   "source": [
    "# Correlation"
   ]
  },
  {
   "cell_type": "markdown",
   "metadata": {},
   "source": [
    "# Sars"
   ]
  },
  {
   "cell_type": "code",
   "execution_count": 880,
   "metadata": {},
   "outputs": [],
   "source": [
    "\n",
    "merged.rename(columns={'CountryName':'Country'}, inplace=True)\n",
    "cov = merged[['Confirmed', 'Country']]\n",
    "sar = sars[sars.Date == \"2003-07-11\"][['Cumulative number of case(s)', 'Country']]\n",
    "sar.at[2537, 'Country'] = 'Vietnam'\n",
    "sar.at[2536, 'Country'] = 'US'\n",
    "sar.at[2535, 'Country'] = 'UK'\n",
    "sar.at[2528, 'Country'] = 'Russia'\n",
    "sar.at[2526, 'Country'] = 'South Korea'\n",
    "sar.at[2525, 'Country'] = 'Ireland'\n",
    "sar.at[2512, 'Country'] = 'Taiwan'\n",
    "sar.at[2511, 'Country'] = 'Macau'\n",
    "sar.at[2510, 'Country'] = 'Hong Kong'\n",
    "diseases = pd.merge(cov, sar, on='Country', how='left').dropna()"
   ]
  },
  {
   "cell_type": "code",
   "execution_count": 884,
   "metadata": {},
   "outputs": [],
   "source": [
    "ssa = sum(diseases['Confirmed'])\n",
    "scov = sum(diseases['Cumulative number of case(s)'])\n",
    "ll = []\n",
    "for i, r in diseases.iterrows():\n",
    "    sa = int(r['Cumulative number of case(s)'])/scov\n",
    "    cov = int(r['Confirmed'])/ssa\n",
    "    c = r['Country']\n",
    "    d = {'categorie': c, 'values': [{'value': cov, 'rate': \"Covid-19\"}, {'value': sa, 'rate': \"SARS\"}]}\n",
    "    ll.append(d)"
   ]
  },
  {
   "cell_type": "code",
   "execution_count": 885,
   "metadata": {},
   "outputs": [],
   "source": [
    "import json\n",
    "with open('../Visualisations/SarsCovid/data2.json', 'w') as fp:\n",
    "    json.dump(ll, fp)"
   ]
  },
  {
   "cell_type": "code",
   "execution_count": 872,
   "metadata": {},
   "outputs": [],
   "source": [
    "diseases.to_json('../Visualisations/SarsCovid/data2.json')"
   ]
  },
  {
   "cell_type": "code",
   "execution_count": 870,
   "metadata": {},
   "outputs": [],
   "source": [
    "#import matplotlib.pyplot as plt\n",
    "#plt.scatter(diseases['Confirmed'], diseases['Cumulative number of case(s)'])\n",
    "#plt.ylim([0,2000])"
   ]
  },
  {
   "cell_type": "markdown",
   "metadata": {},
   "source": [
    "# GDP"
   ]
  },
  {
   "cell_type": "code",
   "execution_count": 844,
   "metadata": {},
   "outputs": [],
   "source": [
    "merged.rename(columns={'CountryName':'Country'}, inplace=True)\n",
    "gdp.rename(columns={'Country Name':'Country', '2016':'gdp'}, inplace=True)\n",
    "cov2 = merged[['Confirmed', 'Country']]\n",
    "gdp2 = gdp[['Country', 'gdp']]\n",
    "\n",
    "gdp2.at[124, 'Country'] = 'South Korea'\n",
    "gdp2.at[110, 'Country'] = 'Iran'\n",
    "gdp2.at[144, 'Country'] = 'Macau'\n",
    "gdp2.at[94, 'Country'] = 'Hong Kong'\n",
    "gdp2.at[79, 'Country'] = 'UK'\n",
    "gdp2.at[155, 'Country'] = 'North Macedonia'\n",
    "gdp2.at[249, 'Country'] = 'US'\n",
    "gdp2.at[200, 'Country'] = 'Russia'\n",
    "gdp2.at[65, 'Country'] = 'Egypt'\n",
    "g = pd.merge(cov2, gdp2, on='Country', how='left')\n",
    "g.at[16,'gdp'] = 589906*10**6\n",
    "g = g.dropna()"
   ]
  },
  {
   "cell_type": "code",
   "execution_count": 845,
   "metadata": {},
   "outputs": [],
   "source": [
    "g.to_csv('../Visualisations/Scatter/gdpdata.csv', index=False)"
   ]
  }
 ],
 "metadata": {
  "kernelspec": {
   "display_name": "Python 3",
   "language": "python",
   "name": "python3"
  },
  "language_info": {
   "codemirror_mode": {
    "name": "ipython",
    "version": 3
   },
   "file_extension": ".py",
   "mimetype": "text/x-python",
   "name": "python",
   "nbconvert_exporter": "python",
   "pygments_lexer": "ipython3",
   "version": "3.6.9"
  }
 },
 "nbformat": 4,
 "nbformat_minor": 2
}
